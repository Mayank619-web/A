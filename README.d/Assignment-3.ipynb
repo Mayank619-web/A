//PROBLEM STATEMENT1:
Write a function to compute 5/0 and use try/except to catch the exceptions.

//SOURCE CODE:
def division(number):
    number=int(input())
    try:
         number%0
    except ZeroDivisionError:
        print("Denominator has  to be grater than 0")
        
division('number')

#OUTPUT:5
        Denominator has  to be grater than 0
	
	
//PROBLEM STATEMENT2:
Implement a Python program to generate all sentences where subject is in ["Americans",
"Indians"] and verb is in ["Play", "watch"] and the object is in ["Baseball","cricket"].
Hint: Subject,Verb and Object should be declared in the program as shown below.
subjects=["Americans ","Indians"]
verbs=["play","watch"]
objects=["Baseball","Cricket"]
Output should come as below:
Americans play Baseball
Americans play Cricket.
Americans watch Baseball.
Americans watch Cricket.
Indians play Baseball.
Indians play Cricket.
Indians watch Baseball.
Indians watch Cricket.

//SOURCE CODE:
Subject=['Americans','Indians']
Verb=['play','watch']
Object=['Baseball','Cricket']

All_sentences=[(sub +" "+ver+" " +obj) for sub in Subject for ver in Verb for obj in Object]
for sentence in All_sentences:
    print(sentence)
    
    
#OUTPUT:Americans play Baseball
        Americans play Cricket
        Americans watch Baseball
        Americans watch Cricket
        Indians play Baseball
        Indians play Cricket
        Indians watch Baseball
        Indians watch Cricket
	
	
//PROBLEM STATEMENT3:
Write a function so that the columns of the output matrix are powers of the input vector.

The order of the powers is determined by the increasing boolean argument. Specifically, when
increasing is False, the i-th output column is the input vector raised element-wise to the power
of N - i - 1.

HINT: Such a matrix with a geometric progression in each row is named for Alexandre-
Theophile Vandermonde.

//SOURCE CODE:
import numpy as np
x = np.array([1, 2, 3, 5])
np.vander(x)

np.vander(x, increasing=True)

OUTPUT:array([[  1,   1,   1,   1],
       [  1,   2,   4,   8],
       [  1,   3,   9,  27],
       [  1,   5,  25, 125]])

 
